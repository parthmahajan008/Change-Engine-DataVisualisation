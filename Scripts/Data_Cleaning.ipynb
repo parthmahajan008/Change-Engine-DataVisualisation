{
 "cells": [
  {
   "cell_type": "code",
   "execution_count": 17,
   "metadata": {},
   "outputs": [],
   "source": [
    "import pandas as pd\n",
    "import os\n",
    "from glob import glob\n",
    "# from tika import parser\n",
    "import re\n",
    "import requests\n",
    "# import shutil2"
   ]
  },
  {
   "cell_type": "code",
   "execution_count": 18,
   "metadata": {},
   "outputs": [
    {
     "name": "stdout",
     "output_type": "stream",
     "text": [
      "\u001b[31mERROR: Could not find a version that satisfies the requirement shutil2 (from versions: none)\u001b[0m\u001b[31m\n",
      "\u001b[0m\u001b[31mERROR: No matching distribution found for shutil2\u001b[0m\u001b[31m\n",
      "\u001b[0m\n",
      "\u001b[1m[\u001b[0m\u001b[34;49mnotice\u001b[0m\u001b[1;39;49m]\u001b[0m\u001b[39;49m A new release of pip is available: \u001b[0m\u001b[31;49m23.2.1\u001b[0m\u001b[39;49m -> \u001b[0m\u001b[32;49m24.0\u001b[0m\n",
      "\u001b[1m[\u001b[0m\u001b[34;49mnotice\u001b[0m\u001b[1;39;49m]\u001b[0m\u001b[39;49m To update, run: \u001b[0m\u001b[32;49m/Library/Frameworks/Python.framework/Versions/3.10/bin/python3.10 -m pip install --upgrade pip\u001b[0m\n",
      "Note: you may need to restart the kernel to use updated packages.\n"
     ]
    }
   ],
   "source": [
    "pip install shutil2"
   ]
  },
  {
   "cell_type": "code",
   "execution_count": 19,
   "metadata": {},
   "outputs": [],
   "source": [
    "scopusIndia = pd.read_csv('scopus.csv')\n"
   ]
  },
  {
   "cell_type": "code",
   "execution_count": 20,
   "metadata": {
    "scrolled": true
   },
   "outputs": [
    {
     "name": "stdout",
     "output_type": "stream",
     "text": [
      "Index(['Authors', 'Author full names', 'Author(s) ID', 'Title', 'Year',\n",
      "       'Source title', 'Volume', 'Issue', 'Art. No.', 'Page start', 'Page end',\n",
      "       'Page count', 'Cited by', 'DOI', 'Link', 'Affiliations',\n",
      "       'Authors with affiliations', 'Abstract', 'Author Keywords',\n",
      "       'Index Keywords', 'Molecular Sequence Numbers', 'Chemicals/CAS',\n",
      "       'Tradenames', 'Manufacturers', 'Funding Details', 'Funding Texts',\n",
      "       'References', 'Correspondence Address', 'Editors', 'Publisher',\n",
      "       'Sponsors', 'Conference name', 'Conference date', 'Conference location',\n",
      "       'Conference code', 'ISSN', 'ISBN', 'CODEN', 'PubMed ID',\n",
      "       'Language of Original Document', 'Abbreviated Source Title',\n",
      "       'Document Type', 'Publication Stage', 'Open Access', 'Source', 'EID'],\n",
      "      dtype='object')\n"
     ]
    }
   ],
   "source": [
    "print (scopusIndia.columns)\n",
    "scopusIndiaSubset = scopusIndia[['Authors','Author(s) ID','Title','Year','Source title','Cited by','DOI',\n",
    "                                'Link','Affiliations','Correspondence Address','Document Type',\n",
    "                                'Source']]\n"
   ]
  },
  {
   "cell_type": "code",
   "execution_count": 21,
   "metadata": {},
   "outputs": [],
   "source": [
    "scopusIndiaSubset.to_csv('Scopus_IndianPub_aft_2023_SUBSET_COL.csv')"
   ]
  },
  {
   "cell_type": "code",
   "execution_count": 22,
   "metadata": {},
   "outputs": [
    {
     "name": "stdout",
     "output_type": "stream",
     "text": [
      "Requirement already satisfied: selenium in /Library/Frameworks/Python.framework/Versions/3.10/lib/python3.10/site-packages (4.18.1)\n",
      "Requirement already satisfied: urllib3[socks]<3,>=1.26 in /Library/Frameworks/Python.framework/Versions/3.10/lib/python3.10/site-packages (from selenium) (1.26.8)\n",
      "Requirement already satisfied: trio~=0.17 in /Library/Frameworks/Python.framework/Versions/3.10/lib/python3.10/site-packages (from selenium) (0.24.0)\n",
      "Requirement already satisfied: trio-websocket~=0.9 in /Library/Frameworks/Python.framework/Versions/3.10/lib/python3.10/site-packages (from selenium) (0.11.1)\n",
      "Requirement already satisfied: certifi>=2021.10.8 in /Library/Frameworks/Python.framework/Versions/3.10/lib/python3.10/site-packages (from selenium) (2021.10.8)\n",
      "Requirement already satisfied: typing_extensions>=4.9.0 in /Library/Frameworks/Python.framework/Versions/3.10/lib/python3.10/site-packages (from selenium) (4.10.0)\n",
      "Requirement already satisfied: attrs>=20.1.0 in /Library/Frameworks/Python.framework/Versions/3.10/lib/python3.10/site-packages (from trio~=0.17->selenium) (21.4.0)\n",
      "Requirement already satisfied: sortedcontainers in /Library/Frameworks/Python.framework/Versions/3.10/lib/python3.10/site-packages (from trio~=0.17->selenium) (2.4.0)\n",
      "Requirement already satisfied: idna in /Library/Frameworks/Python.framework/Versions/3.10/lib/python3.10/site-packages (from trio~=0.17->selenium) (3.3)\n",
      "Requirement already satisfied: outcome in /Library/Frameworks/Python.framework/Versions/3.10/lib/python3.10/site-packages (from trio~=0.17->selenium) (1.3.0.post0)\n",
      "Requirement already satisfied: sniffio>=1.3.0 in /Library/Frameworks/Python.framework/Versions/3.10/lib/python3.10/site-packages (from trio~=0.17->selenium) (1.3.1)\n",
      "Requirement already satisfied: exceptiongroup in /Library/Frameworks/Python.framework/Versions/3.10/lib/python3.10/site-packages (from trio~=0.17->selenium) (1.2.0)\n",
      "Requirement already satisfied: wsproto>=0.14 in /Library/Frameworks/Python.framework/Versions/3.10/lib/python3.10/site-packages (from trio-websocket~=0.9->selenium) (1.2.0)\n",
      "Requirement already satisfied: PySocks!=1.5.7,<2.0,>=1.5.6 in /Library/Frameworks/Python.framework/Versions/3.10/lib/python3.10/site-packages (from urllib3[socks]<3,>=1.26->selenium) (1.7.1)\n",
      "Requirement already satisfied: h11<1,>=0.9.0 in /Library/Frameworks/Python.framework/Versions/3.10/lib/python3.10/site-packages (from wsproto>=0.14->trio-websocket~=0.9->selenium) (0.14.0)\n",
      "\n",
      "\u001b[1m[\u001b[0m\u001b[34;49mnotice\u001b[0m\u001b[1;39;49m]\u001b[0m\u001b[39;49m A new release of pip is available: \u001b[0m\u001b[31;49m23.2.1\u001b[0m\u001b[39;49m -> \u001b[0m\u001b[32;49m24.0\u001b[0m\n",
      "\u001b[1m[\u001b[0m\u001b[34;49mnotice\u001b[0m\u001b[1;39;49m]\u001b[0m\u001b[39;49m To update, run: \u001b[0m\u001b[32;49m/Library/Frameworks/Python.framework/Versions/3.10/bin/python3.10 -m pip install --upgrade pip\u001b[0m\n",
      "Note: you may need to restart the kernel to use updated packages.\n"
     ]
    }
   ],
   "source": [
    "pip install selenium"
   ]
  },
  {
   "cell_type": "markdown",
   "metadata": {},
   "source": [
    "# Getting URL Data"
   ]
  },
  {
   "cell_type": "code",
   "execution_count": 23,
   "metadata": {},
   "outputs": [],
   "source": [
    "import pandas as pd\n",
    "from bs4 import BeautifulSoup # BeautifulSoup is in bs4 package \n",
    "import requests\n",
    "# import browsercookie\n",
    "from selenium import webdriver\n",
    "from tqdm import tqdm_notebook as tqdm\n",
    "import csv\n",
    "import time\n",
    "import re\n",
    "from selenium.webdriver.support import expected_conditions as EC\n",
    "from selenium.webdriver.common.by import By\n",
    "from selenium.webdriver.support.ui import WebDriverWait\n",
    "from selenium.webdriver.support import expected_conditions as EC\n",
    "from selenium.webdriver.chrome.options import Options"
   ]
  },
  {
   "cell_type": "code",
   "execution_count": 24,
   "metadata": {},
   "outputs": [],
   "source": [
    "file_ = pd.read_csv('Scopus_IndianPub_aft_2023_SUBSET_COL.csv')"
   ]
  },
  {
   "cell_type": "code",
   "execution_count": 25,
   "metadata": {},
   "outputs": [
    {
     "data": {
      "text/html": [
       "<div>\n",
       "<style scoped>\n",
       "    .dataframe tbody tr th:only-of-type {\n",
       "        vertical-align: middle;\n",
       "    }\n",
       "\n",
       "    .dataframe tbody tr th {\n",
       "        vertical-align: top;\n",
       "    }\n",
       "\n",
       "    .dataframe thead th {\n",
       "        text-align: right;\n",
       "    }\n",
       "</style>\n",
       "<table border=\"1\" class=\"dataframe\">\n",
       "  <thead>\n",
       "    <tr style=\"text-align: right;\">\n",
       "      <th></th>\n",
       "      <th>Unnamed: 0</th>\n",
       "      <th>Authors</th>\n",
       "      <th>Author(s) ID</th>\n",
       "      <th>Title</th>\n",
       "      <th>Year</th>\n",
       "      <th>Source title</th>\n",
       "      <th>Cited by</th>\n",
       "      <th>DOI</th>\n",
       "      <th>Link</th>\n",
       "      <th>Affiliations</th>\n",
       "      <th>Correspondence Address</th>\n",
       "      <th>Document Type</th>\n",
       "      <th>Source</th>\n",
       "    </tr>\n",
       "  </thead>\n",
       "  <tbody>\n",
       "    <tr>\n",
       "      <th>0</th>\n",
       "      <td>0</td>\n",
       "      <td>Wichtowski M.</td>\n",
       "      <td>56367390300</td>\n",
       "      <td>Why phenomenological theory cannot be used to ...</td>\n",
       "      <td>2023</td>\n",
       "      <td>Photonics Letters of Poland</td>\n",
       "      <td>0.0</td>\n",
       "      <td>10.4302/plp.v15i4.1244</td>\n",
       "      <td>https://www.scopus.com/inward/record.uri?eid=2...</td>\n",
       "      <td>Faculty of Electrical Engineering, West Pomera...</td>\n",
       "      <td>M. Wichtowski; Faculty of Electrical Engineeri...</td>\n",
       "      <td>Article</td>\n",
       "      <td>Scopus</td>\n",
       "    </tr>\n",
       "    <tr>\n",
       "      <th>1</th>\n",
       "      <td>1</td>\n",
       "      <td>Subashini K.; Narmatha V.</td>\n",
       "      <td>55578386200; 56623130500</td>\n",
       "      <td>MANTA RAY FORAGING OPTIMIZATION ALGORITHM WITH...</td>\n",
       "      <td>2023</td>\n",
       "      <td>Journal of Theoretical and Applied Information...</td>\n",
       "      <td>0.0</td>\n",
       "      <td>NaN</td>\n",
       "      <td>https://www.scopus.com/inward/record.uri?eid=2...</td>\n",
       "      <td>Department of Computer and Information Science...</td>\n",
       "      <td>NaN</td>\n",
       "      <td>Article</td>\n",
       "      <td>Scopus</td>\n",
       "    </tr>\n",
       "    <tr>\n",
       "      <th>2</th>\n",
       "      <td>2</td>\n",
       "      <td>Bamaga A.K.; Zafer B.; Terzis S.</td>\n",
       "      <td>58675281900; 58810000500; 9743437700</td>\n",
       "      <td>Understanding LMS Use in Saudi Higher Educatio...</td>\n",
       "      <td>2023</td>\n",
       "      <td>Journal of Higher Education Theory and Practice</td>\n",
       "      <td>0.0</td>\n",
       "      <td>10.33423/jhetp.v23i20.6714</td>\n",
       "      <td>https://www.scopus.com/inward/record.uri?eid=2...</td>\n",
       "      <td>King Abdulaziz University, Saudi Arabia; Unive...</td>\n",
       "      <td>NaN</td>\n",
       "      <td>Article</td>\n",
       "      <td>Scopus</td>\n",
       "    </tr>\n",
       "    <tr>\n",
       "      <th>3</th>\n",
       "      <td>3</td>\n",
       "      <td>Schwarz A.; Faj T.</td>\n",
       "      <td>36606838200; 58826004500</td>\n",
       "      <td>Communicating and perceiving risks of artifici...</td>\n",
       "      <td>2023</td>\n",
       "      <td>Communicating Risk and Safety</td>\n",
       "      <td>0.0</td>\n",
       "      <td>10.1515/9783110752427-027</td>\n",
       "      <td>https://www.scopus.com/inward/record.uri?eid=2...</td>\n",
       "      <td>Technische Universität Ilmenau, Germany</td>\n",
       "      <td>NaN</td>\n",
       "      <td>Book chapter</td>\n",
       "      <td>Scopus</td>\n",
       "    </tr>\n",
       "    <tr>\n",
       "      <th>4</th>\n",
       "      <td>4</td>\n",
       "      <td>He J.; Hu Q.</td>\n",
       "      <td>58829605800; 15072703900</td>\n",
       "      <td>Analysis of prognostic factors and establishme...</td>\n",
       "      <td>2023</td>\n",
       "      <td>Translational Cancer Research</td>\n",
       "      <td>0.0</td>\n",
       "      <td>10.21037/tcr-23-992</td>\n",
       "      <td>https://www.scopus.com/inward/record.uri?eid=2...</td>\n",
       "      <td>Department of Oncology, Renmin Hospital, Wuhan...</td>\n",
       "      <td>Q. Hu; Department of Oncology, Renmin Hospital...</td>\n",
       "      <td>Article</td>\n",
       "      <td>Scopus</td>\n",
       "    </tr>\n",
       "  </tbody>\n",
       "</table>\n",
       "</div>"
      ],
      "text/plain": [
       "   Unnamed: 0                           Authors  \\\n",
       "0           0                     Wichtowski M.   \n",
       "1           1         Subashini K.; Narmatha V.   \n",
       "2           2  Bamaga A.K.; Zafer B.; Terzis S.   \n",
       "3           3                Schwarz A.; Faj T.   \n",
       "4           4                      He J.; Hu Q.   \n",
       "\n",
       "                           Author(s) ID  \\\n",
       "0                           56367390300   \n",
       "1              55578386200; 56623130500   \n",
       "2  58675281900; 58810000500; 9743437700   \n",
       "3              36606838200; 58826004500   \n",
       "4              58829605800; 15072703900   \n",
       "\n",
       "                                               Title  Year  \\\n",
       "0  Why phenomenological theory cannot be used to ...  2023   \n",
       "1  MANTA RAY FORAGING OPTIMIZATION ALGORITHM WITH...  2023   \n",
       "2  Understanding LMS Use in Saudi Higher Educatio...  2023   \n",
       "3  Communicating and perceiving risks of artifici...  2023   \n",
       "4  Analysis of prognostic factors and establishme...  2023   \n",
       "\n",
       "                                        Source title  Cited by  \\\n",
       "0                        Photonics Letters of Poland       0.0   \n",
       "1  Journal of Theoretical and Applied Information...       0.0   \n",
       "2    Journal of Higher Education Theory and Practice       0.0   \n",
       "3                      Communicating Risk and Safety       0.0   \n",
       "4                      Translational Cancer Research       0.0   \n",
       "\n",
       "                          DOI  \\\n",
       "0      10.4302/plp.v15i4.1244   \n",
       "1                         NaN   \n",
       "2  10.33423/jhetp.v23i20.6714   \n",
       "3   10.1515/9783110752427-027   \n",
       "4         10.21037/tcr-23-992   \n",
       "\n",
       "                                                Link  \\\n",
       "0  https://www.scopus.com/inward/record.uri?eid=2...   \n",
       "1  https://www.scopus.com/inward/record.uri?eid=2...   \n",
       "2  https://www.scopus.com/inward/record.uri?eid=2...   \n",
       "3  https://www.scopus.com/inward/record.uri?eid=2...   \n",
       "4  https://www.scopus.com/inward/record.uri?eid=2...   \n",
       "\n",
       "                                        Affiliations  \\\n",
       "0  Faculty of Electrical Engineering, West Pomera...   \n",
       "1  Department of Computer and Information Science...   \n",
       "2  King Abdulaziz University, Saudi Arabia; Unive...   \n",
       "3            Technische Universität Ilmenau, Germany   \n",
       "4  Department of Oncology, Renmin Hospital, Wuhan...   \n",
       "\n",
       "                              Correspondence Address Document Type  Source  \n",
       "0  M. Wichtowski; Faculty of Electrical Engineeri...       Article  Scopus  \n",
       "1                                                NaN       Article  Scopus  \n",
       "2                                                NaN       Article  Scopus  \n",
       "3                                                NaN  Book chapter  Scopus  \n",
       "4  Q. Hu; Department of Oncology, Renmin Hospital...       Article  Scopus  "
      ]
     },
     "execution_count": 25,
     "metadata": {},
     "output_type": "execute_result"
    }
   ],
   "source": [
    "file_sample =file_.head()\n",
    "file_sample"
   ]
  },
  {
   "cell_type": "code",
   "execution_count": 28,
   "metadata": {},
   "outputs": [],
   "source": [
    "# cj = browsercookie.chrome()\n",
    "# head = {'User-Agent': 'Mozilla/5.0 (Linux; Android 5.1.1; SM-G928X Build/LMY47X) AppleWebKit/537.36 (KHTML, like Gecko) Chrome/47.0.2526.83 Mobile Safari/537.36'}\n",
    "# r = requests.get(\"https://www.scopus.com/inward/record.uri?eid=2-s2.0-85063475493&doi=10.1007%2f978-3-030-11680-4_34&partnerID=40&md5=1bb96829daaa49a24a6be160d88beea0\", cookies=cj,headers = head)\n",
    "# soup = soup = BeautifulSoup(r.text, 'html.parser')#html.parser\n"
   ]
  },
  {
   "cell_type": "code",
   "execution_count": null,
   "metadata": {},
   "outputs": [],
   "source": []
  },
  {
   "cell_type": "code",
   "execution_count": 30,
   "metadata": {},
   "outputs": [],
   "source": [
    "username ='priyankagupta@ms.du.ac.in'\n",
    "password = 'Priya@1989'"
   ]
  },
  {
   "cell_type": "code",
   "execution_count": 31,
   "metadata": {},
   "outputs": [],
   "source": [
    "chrome_options = Options()\n",
    "chrome_options.add_argument(\"--disable-extensions\")\n",
    "chrome_options.add_argument(\"--disable-gpu\")\n",
    "chrome_options.add_argument(\"--no-sandbox\") # linux only\n",
    "chrome_options.add_argument(\"--headless\")\n",
    "chrome_options.add_argument('disable-blink-features=AutomationControlled')\n",
    "chrome_options.add_argument('user-agent=fake-useragent')\n",
    "chrome_options.add_argument('--user-data-dir=~/.config/google-chrome')\n",
    "chrome_options.headless = True # also works\n",
    "driver = webdriver.Chrome(options=chrome_options)"
   ]
  },
  {
   "cell_type": "code",
   "execution_count": 32,
   "metadata": {},
   "outputs": [],
   "source": [
    "# driver.quit()"
   ]
  },
  {
   "cell_type": "code",
   "execution_count": 33,
   "metadata": {},
   "outputs": [
    {
     "ename": "NoSuchElementException",
     "evalue": "Message: no such element: Unable to locate element: {\"method\":\"css selector\",\"selector\":\".Button-module__nc6_8.Button-module__rphhF.Button-module__nwgBo.Button-module__R359q.Button-module__hK_LA.Button-module__x5a4w\"}\n  (Session info: chrome-headless-shell=122.0.6261.69); For documentation on this error, please visit: https://www.selenium.dev/documentation/webdriver/troubleshooting/errors#no-such-element-exception\nStacktrace:\n0   chromedriver                        0x000000010136c53c chromedriver + 3966268\n1   chromedriver                        0x0000000101364ac8 chromedriver + 3934920\n2   chromedriver                        0x0000000100fe7da0 chromedriver + 277920\n3   chromedriver                        0x000000010102a394 chromedriver + 549780\n4   chromedriver                        0x0000000101062bf0 chromedriver + 781296\n5   chromedriver                        0x000000010101efb0 chromedriver + 503728\n6   chromedriver                        0x000000010101fa28 chromedriver + 506408\n7   chromedriver                        0x0000000101331724 chromedriver + 3725092\n8   chromedriver                        0x0000000101335c18 chromedriver + 3742744\n9   chromedriver                        0x000000010131a20c chromedriver + 3629580\n10  chromedriver                        0x0000000101336714 chromedriver + 3745556\n11  chromedriver                        0x000000010130d584 chromedriver + 3577220\n12  chromedriver                        0x0000000101354f74 chromedriver + 3870580\n13  chromedriver                        0x0000000101355118 chromedriver + 3871000\n14  chromedriver                        0x0000000101364738 chromedriver + 3934008\n15  libsystem_pthread.dylib             0x0000000184576034 _pthread_start + 136\n16  libsystem_pthread.dylib             0x0000000184570e3c thread_start + 8\n",
     "output_type": "error",
     "traceback": [
      "\u001b[0;31m---------------------------------------------------------------------------\u001b[0m",
      "\u001b[0;31mNoSuchElementException\u001b[0m                    Traceback (most recent call last)",
      "Input \u001b[0;32mIn [33]\u001b[0m, in \u001b[0;36m<module>\u001b[0;34m\u001b[0m\n\u001b[0;32m----> 1\u001b[0m \u001b[43mdriver\u001b[49m\u001b[38;5;241;43m.\u001b[39;49m\u001b[43mfind_element\u001b[49m\u001b[43m(\u001b[49m\u001b[43mBy\u001b[49m\u001b[38;5;241;43m.\u001b[39;49m\u001b[43mCSS_SELECTOR\u001b[49m\u001b[43m,\u001b[49m\u001b[43m \u001b[49m\u001b[38;5;124;43m'\u001b[39;49m\u001b[38;5;124;43m.Button-module__nc6_8.Button-module__rphhF.Button-module__nwgBo.Button-module__R359q.Button-module__hK_LA.Button-module__x5a4w\u001b[39;49m\u001b[38;5;124;43m'\u001b[39;49m\u001b[43m)\u001b[49m\n",
      "File \u001b[0;32m/Library/Frameworks/Python.framework/Versions/3.10/lib/python3.10/site-packages/selenium/webdriver/remote/webdriver.py:741\u001b[0m, in \u001b[0;36mWebDriver.find_element\u001b[0;34m(self, by, value)\u001b[0m\n\u001b[1;32m    738\u001b[0m     by \u001b[38;5;241m=\u001b[39m By\u001b[38;5;241m.\u001b[39mCSS_SELECTOR\n\u001b[1;32m    739\u001b[0m     value \u001b[38;5;241m=\u001b[39m \u001b[38;5;124mf\u001b[39m\u001b[38;5;124m'\u001b[39m\u001b[38;5;124m[name=\u001b[39m\u001b[38;5;124m\"\u001b[39m\u001b[38;5;132;01m{\u001b[39;00mvalue\u001b[38;5;132;01m}\u001b[39;00m\u001b[38;5;124m\"\u001b[39m\u001b[38;5;124m]\u001b[39m\u001b[38;5;124m'\u001b[39m\n\u001b[0;32m--> 741\u001b[0m \u001b[38;5;28;01mreturn\u001b[39;00m \u001b[38;5;28;43mself\u001b[39;49m\u001b[38;5;241;43m.\u001b[39;49m\u001b[43mexecute\u001b[49m\u001b[43m(\u001b[49m\u001b[43mCommand\u001b[49m\u001b[38;5;241;43m.\u001b[39;49m\u001b[43mFIND_ELEMENT\u001b[49m\u001b[43m,\u001b[49m\u001b[43m \u001b[49m\u001b[43m{\u001b[49m\u001b[38;5;124;43m\"\u001b[39;49m\u001b[38;5;124;43musing\u001b[39;49m\u001b[38;5;124;43m\"\u001b[39;49m\u001b[43m:\u001b[49m\u001b[43m \u001b[49m\u001b[43mby\u001b[49m\u001b[43m,\u001b[49m\u001b[43m \u001b[49m\u001b[38;5;124;43m\"\u001b[39;49m\u001b[38;5;124;43mvalue\u001b[39;49m\u001b[38;5;124;43m\"\u001b[39;49m\u001b[43m:\u001b[49m\u001b[43m \u001b[49m\u001b[43mvalue\u001b[49m\u001b[43m}\u001b[49m\u001b[43m)\u001b[49m[\u001b[38;5;124m\"\u001b[39m\u001b[38;5;124mvalue\u001b[39m\u001b[38;5;124m\"\u001b[39m]\n",
      "File \u001b[0;32m/Library/Frameworks/Python.framework/Versions/3.10/lib/python3.10/site-packages/selenium/webdriver/remote/webdriver.py:347\u001b[0m, in \u001b[0;36mWebDriver.execute\u001b[0;34m(self, driver_command, params)\u001b[0m\n\u001b[1;32m    345\u001b[0m response \u001b[38;5;241m=\u001b[39m \u001b[38;5;28mself\u001b[39m\u001b[38;5;241m.\u001b[39mcommand_executor\u001b[38;5;241m.\u001b[39mexecute(driver_command, params)\n\u001b[1;32m    346\u001b[0m \u001b[38;5;28;01mif\u001b[39;00m response:\n\u001b[0;32m--> 347\u001b[0m     \u001b[38;5;28;43mself\u001b[39;49m\u001b[38;5;241;43m.\u001b[39;49m\u001b[43merror_handler\u001b[49m\u001b[38;5;241;43m.\u001b[39;49m\u001b[43mcheck_response\u001b[49m\u001b[43m(\u001b[49m\u001b[43mresponse\u001b[49m\u001b[43m)\u001b[49m\n\u001b[1;32m    348\u001b[0m     response[\u001b[38;5;124m\"\u001b[39m\u001b[38;5;124mvalue\u001b[39m\u001b[38;5;124m\"\u001b[39m] \u001b[38;5;241m=\u001b[39m \u001b[38;5;28mself\u001b[39m\u001b[38;5;241m.\u001b[39m_unwrap_value(response\u001b[38;5;241m.\u001b[39mget(\u001b[38;5;124m\"\u001b[39m\u001b[38;5;124mvalue\u001b[39m\u001b[38;5;124m\"\u001b[39m, \u001b[38;5;28;01mNone\u001b[39;00m))\n\u001b[1;32m    349\u001b[0m     \u001b[38;5;28;01mreturn\u001b[39;00m response\n",
      "File \u001b[0;32m/Library/Frameworks/Python.framework/Versions/3.10/lib/python3.10/site-packages/selenium/webdriver/remote/errorhandler.py:229\u001b[0m, in \u001b[0;36mErrorHandler.check_response\u001b[0;34m(self, response)\u001b[0m\n\u001b[1;32m    227\u001b[0m         alert_text \u001b[38;5;241m=\u001b[39m value[\u001b[38;5;124m\"\u001b[39m\u001b[38;5;124malert\u001b[39m\u001b[38;5;124m\"\u001b[39m]\u001b[38;5;241m.\u001b[39mget(\u001b[38;5;124m\"\u001b[39m\u001b[38;5;124mtext\u001b[39m\u001b[38;5;124m\"\u001b[39m)\n\u001b[1;32m    228\u001b[0m     \u001b[38;5;28;01mraise\u001b[39;00m exception_class(message, screen, stacktrace, alert_text)  \u001b[38;5;66;03m# type: ignore[call-arg]  # mypy is not smart enough here\u001b[39;00m\n\u001b[0;32m--> 229\u001b[0m \u001b[38;5;28;01mraise\u001b[39;00m exception_class(message, screen, stacktrace)\n",
      "\u001b[0;31mNoSuchElementException\u001b[0m: Message: no such element: Unable to locate element: {\"method\":\"css selector\",\"selector\":\".Button-module__nc6_8.Button-module__rphhF.Button-module__nwgBo.Button-module__R359q.Button-module__hK_LA.Button-module__x5a4w\"}\n  (Session info: chrome-headless-shell=122.0.6261.69); For documentation on this error, please visit: https://www.selenium.dev/documentation/webdriver/troubleshooting/errors#no-such-element-exception\nStacktrace:\n0   chromedriver                        0x000000010136c53c chromedriver + 3966268\n1   chromedriver                        0x0000000101364ac8 chromedriver + 3934920\n2   chromedriver                        0x0000000100fe7da0 chromedriver + 277920\n3   chromedriver                        0x000000010102a394 chromedriver + 549780\n4   chromedriver                        0x0000000101062bf0 chromedriver + 781296\n5   chromedriver                        0x000000010101efb0 chromedriver + 503728\n6   chromedriver                        0x000000010101fa28 chromedriver + 506408\n7   chromedriver                        0x0000000101331724 chromedriver + 3725092\n8   chromedriver                        0x0000000101335c18 chromedriver + 3742744\n9   chromedriver                        0x000000010131a20c chromedriver + 3629580\n10  chromedriver                        0x0000000101336714 chromedriver + 3745556\n11  chromedriver                        0x000000010130d584 chromedriver + 3577220\n12  chromedriver                        0x0000000101354f74 chromedriver + 3870580\n13  chromedriver                        0x0000000101355118 chromedriver + 3871000\n14  chromedriver                        0x0000000101364738 chromedriver + 3934008\n15  libsystem_pthread.dylib             0x0000000184576034 _pthread_start + 136\n16  libsystem_pthread.dylib             0x0000000184570e3c thread_start + 8\n"
     ]
    }
   ],
   "source": [
    "driver.find_element(By.CSS_SELECTOR, '.Button-module__nc6_8.Button-module__rphhF.Button-module__nwgBo.Button-module__R359q.Button-module__hK_LA.Button-module__x5a4w')\n"
   ]
  },
  {
   "cell_type": "code",
   "execution_count": 16,
   "metadata": {},
   "outputs": [
    {
     "ename": "NoSuchElementException",
     "evalue": "Message: no such element: Unable to locate element: {\"method\":\"css selector\",\"selector\":\"Button-module__nc6_8 Button-module__rphhF Button-module__nwgBo Button-module__R359q Button-module__x5a4w\"}\n  (Session info: chrome-headless-shell=122.0.6261.69); For documentation on this error, please visit: https://www.selenium.dev/documentation/webdriver/troubleshooting/errors#no-such-element-exception\nStacktrace:\n0   chromedriver                        0x00000001052a4580 chromedriver + 3966336\n1   chromedriver                        0x000000010529cb0c chromedriver + 3934988\n2   chromedriver                        0x0000000104f1fda0 chromedriver + 277920\n3   chromedriver                        0x0000000104f62394 chromedriver + 549780\n4   chromedriver                        0x0000000104f9abf0 chromedriver + 781296\n5   chromedriver                        0x0000000104f56fb0 chromedriver + 503728\n6   chromedriver                        0x0000000104f57a28 chromedriver + 506408\n7   chromedriver                        0x0000000105269768 chromedriver + 3725160\n8   chromedriver                        0x000000010526dc5c chromedriver + 3742812\n9   chromedriver                        0x0000000105252250 chromedriver + 3629648\n10  chromedriver                        0x000000010526e758 chromedriver + 3745624\n11  chromedriver                        0x00000001052455c8 chromedriver + 3577288\n12  chromedriver                        0x000000010528cfb8 chromedriver + 3870648\n13  chromedriver                        0x000000010528d15c chromedriver + 3871068\n14  chromedriver                        0x000000010529c77c chromedriver + 3934076\n15  libsystem_pthread.dylib             0x0000000184576034 _pthread_start + 136\n16  libsystem_pthread.dylib             0x0000000184570e3c thread_start + 8\n",
     "output_type": "error",
     "traceback": [
      "\u001b[0;31m---------------------------------------------------------------------------\u001b[0m",
      "\u001b[0;31mNoSuchElementException\u001b[0m                    Traceback (most recent call last)",
      "Input \u001b[0;32mIn [16]\u001b[0m, in \u001b[0;36m<module>\u001b[0;34m\u001b[0m\n\u001b[1;32m      2\u001b[0m time\u001b[38;5;241m.\u001b[39msleep(\u001b[38;5;241m3\u001b[39m)\n\u001b[1;32m      3\u001b[0m \u001b[38;5;66;03m# LOGIN BUTTON\u001b[39;00m\n\u001b[1;32m      4\u001b[0m \u001b[38;5;66;03m# driver.find_element_by_css_selector('Button-module__nc6_8 Button-module__rphhF Button-module__nwgBo Button-module__R359q Button-module__x5a4w').click()\u001b[39;00m\n\u001b[0;32m----> 5\u001b[0m \u001b[43mdriver\u001b[49m\u001b[38;5;241;43m.\u001b[39;49m\u001b[43mfind_element\u001b[49m\u001b[43m(\u001b[49m\u001b[43mBy\u001b[49m\u001b[38;5;241;43m.\u001b[39;49m\u001b[43mCSS_SELECTOR\u001b[49m\u001b[43m,\u001b[49m\u001b[43m \u001b[49m\u001b[38;5;124;43m'\u001b[39;49m\u001b[38;5;124;43mButton-module__nc6_8 Button-module__rphhF Button-module__nwgBo Button-module__R359q Button-module__x5a4w\u001b[39;49m\u001b[38;5;124;43m'\u001b[39;49m\u001b[43m)\u001b[49m\u001b[38;5;241m.\u001b[39mclick()\n\u001b[1;32m      6\u001b[0m \u001b[38;5;66;03m# driver.find_element_by_css_selector('#bdd-elsSecondaryBtn').click()\u001b[39;00m\n\u001b[1;32m      7\u001b[0m driver\u001b[38;5;241m.\u001b[39mfind_element_by_id(\u001b[38;5;124m\"\u001b[39m\u001b[38;5;124mbdd-email\u001b[39m\u001b[38;5;124m\"\u001b[39m)\u001b[38;5;241m.\u001b[39msend_keys(username)\n",
      "File \u001b[0;32m/Library/Frameworks/Python.framework/Versions/3.10/lib/python3.10/site-packages/selenium/webdriver/remote/webdriver.py:741\u001b[0m, in \u001b[0;36mWebDriver.find_element\u001b[0;34m(self, by, value)\u001b[0m\n\u001b[1;32m    738\u001b[0m     by \u001b[38;5;241m=\u001b[39m By\u001b[38;5;241m.\u001b[39mCSS_SELECTOR\n\u001b[1;32m    739\u001b[0m     value \u001b[38;5;241m=\u001b[39m \u001b[38;5;124mf\u001b[39m\u001b[38;5;124m'\u001b[39m\u001b[38;5;124m[name=\u001b[39m\u001b[38;5;124m\"\u001b[39m\u001b[38;5;132;01m{\u001b[39;00mvalue\u001b[38;5;132;01m}\u001b[39;00m\u001b[38;5;124m\"\u001b[39m\u001b[38;5;124m]\u001b[39m\u001b[38;5;124m'\u001b[39m\n\u001b[0;32m--> 741\u001b[0m \u001b[38;5;28;01mreturn\u001b[39;00m \u001b[38;5;28;43mself\u001b[39;49m\u001b[38;5;241;43m.\u001b[39;49m\u001b[43mexecute\u001b[49m\u001b[43m(\u001b[49m\u001b[43mCommand\u001b[49m\u001b[38;5;241;43m.\u001b[39;49m\u001b[43mFIND_ELEMENT\u001b[49m\u001b[43m,\u001b[49m\u001b[43m \u001b[49m\u001b[43m{\u001b[49m\u001b[38;5;124;43m\"\u001b[39;49m\u001b[38;5;124;43musing\u001b[39;49m\u001b[38;5;124;43m\"\u001b[39;49m\u001b[43m:\u001b[49m\u001b[43m \u001b[49m\u001b[43mby\u001b[49m\u001b[43m,\u001b[49m\u001b[43m \u001b[49m\u001b[38;5;124;43m\"\u001b[39;49m\u001b[38;5;124;43mvalue\u001b[39;49m\u001b[38;5;124;43m\"\u001b[39;49m\u001b[43m:\u001b[49m\u001b[43m \u001b[49m\u001b[43mvalue\u001b[49m\u001b[43m}\u001b[49m\u001b[43m)\u001b[49m[\u001b[38;5;124m\"\u001b[39m\u001b[38;5;124mvalue\u001b[39m\u001b[38;5;124m\"\u001b[39m]\n",
      "File \u001b[0;32m/Library/Frameworks/Python.framework/Versions/3.10/lib/python3.10/site-packages/selenium/webdriver/remote/webdriver.py:347\u001b[0m, in \u001b[0;36mWebDriver.execute\u001b[0;34m(self, driver_command, params)\u001b[0m\n\u001b[1;32m    345\u001b[0m response \u001b[38;5;241m=\u001b[39m \u001b[38;5;28mself\u001b[39m\u001b[38;5;241m.\u001b[39mcommand_executor\u001b[38;5;241m.\u001b[39mexecute(driver_command, params)\n\u001b[1;32m    346\u001b[0m \u001b[38;5;28;01mif\u001b[39;00m response:\n\u001b[0;32m--> 347\u001b[0m     \u001b[38;5;28;43mself\u001b[39;49m\u001b[38;5;241;43m.\u001b[39;49m\u001b[43merror_handler\u001b[49m\u001b[38;5;241;43m.\u001b[39;49m\u001b[43mcheck_response\u001b[49m\u001b[43m(\u001b[49m\u001b[43mresponse\u001b[49m\u001b[43m)\u001b[49m\n\u001b[1;32m    348\u001b[0m     response[\u001b[38;5;124m\"\u001b[39m\u001b[38;5;124mvalue\u001b[39m\u001b[38;5;124m\"\u001b[39m] \u001b[38;5;241m=\u001b[39m \u001b[38;5;28mself\u001b[39m\u001b[38;5;241m.\u001b[39m_unwrap_value(response\u001b[38;5;241m.\u001b[39mget(\u001b[38;5;124m\"\u001b[39m\u001b[38;5;124mvalue\u001b[39m\u001b[38;5;124m\"\u001b[39m, \u001b[38;5;28;01mNone\u001b[39;00m))\n\u001b[1;32m    349\u001b[0m     \u001b[38;5;28;01mreturn\u001b[39;00m response\n",
      "File \u001b[0;32m/Library/Frameworks/Python.framework/Versions/3.10/lib/python3.10/site-packages/selenium/webdriver/remote/errorhandler.py:229\u001b[0m, in \u001b[0;36mErrorHandler.check_response\u001b[0;34m(self, response)\u001b[0m\n\u001b[1;32m    227\u001b[0m         alert_text \u001b[38;5;241m=\u001b[39m value[\u001b[38;5;124m\"\u001b[39m\u001b[38;5;124malert\u001b[39m\u001b[38;5;124m\"\u001b[39m]\u001b[38;5;241m.\u001b[39mget(\u001b[38;5;124m\"\u001b[39m\u001b[38;5;124mtext\u001b[39m\u001b[38;5;124m\"\u001b[39m)\n\u001b[1;32m    228\u001b[0m     \u001b[38;5;28;01mraise\u001b[39;00m exception_class(message, screen, stacktrace, alert_text)  \u001b[38;5;66;03m# type: ignore[call-arg]  # mypy is not smart enough here\u001b[39;00m\n\u001b[0;32m--> 229\u001b[0m \u001b[38;5;28;01mraise\u001b[39;00m exception_class(message, screen, stacktrace)\n",
      "\u001b[0;31mNoSuchElementException\u001b[0m: Message: no such element: Unable to locate element: {\"method\":\"css selector\",\"selector\":\"Button-module__nc6_8 Button-module__rphhF Button-module__nwgBo Button-module__R359q Button-module__x5a4w\"}\n  (Session info: chrome-headless-shell=122.0.6261.69); For documentation on this error, please visit: https://www.selenium.dev/documentation/webdriver/troubleshooting/errors#no-such-element-exception\nStacktrace:\n0   chromedriver                        0x00000001052a4580 chromedriver + 3966336\n1   chromedriver                        0x000000010529cb0c chromedriver + 3934988\n2   chromedriver                        0x0000000104f1fda0 chromedriver + 277920\n3   chromedriver                        0x0000000104f62394 chromedriver + 549780\n4   chromedriver                        0x0000000104f9abf0 chromedriver + 781296\n5   chromedriver                        0x0000000104f56fb0 chromedriver + 503728\n6   chromedriver                        0x0000000104f57a28 chromedriver + 506408\n7   chromedriver                        0x0000000105269768 chromedriver + 3725160\n8   chromedriver                        0x000000010526dc5c chromedriver + 3742812\n9   chromedriver                        0x0000000105252250 chromedriver + 3629648\n10  chromedriver                        0x000000010526e758 chromedriver + 3745624\n11  chromedriver                        0x00000001052455c8 chromedriver + 3577288\n12  chromedriver                        0x000000010528cfb8 chromedriver + 3870648\n13  chromedriver                        0x000000010528d15c chromedriver + 3871068\n14  chromedriver                        0x000000010529c77c chromedriver + 3934076\n15  libsystem_pthread.dylib             0x0000000184576034 _pthread_start + 136\n16  libsystem_pthread.dylib             0x0000000184570e3c thread_start + 8\n"
     ]
    }
   ],
   "source": [
    "\n",
    "driver.get(\"https://www.scopus.com/\")\n",
    "time.sleep(3)\n",
    "# LOGIN BUTTON\n",
    "# driver.find_element_by_css_selector('Button-module__nc6_8 Button-module__rphhF Button-module__nwgBo Button-module__R359q Button-module__x5a4w').click()\n",
    "driver.find_element(By.CSS_SELECTOR, 'Button-module__nc6_8 Button-module__rphhF Button-module__nwgBo Button-module__R359q Button-module__x5a4w').click()\n",
    "# driver.find_element_by_css_selector('#bdd-elsSecondaryBtn').click()\n",
    "driver.find_element_by_id(\"bdd-email\").send_keys(username)\n",
    "# CONTINUE BUTTON\n",
    "driver.find_element_by_css_selector(\"#bdd-els-searchBtn\").click()\n",
    "driver.find_element_by_id(\"bdd-password\").send_keys(password)\n",
    "driver.find_element_by_css_selector(\"#bdd-elsPrimaryBtn\").click()"
   ]
  },
  {
   "cell_type": "code",
   "execution_count": null,
   "metadata": {},
   "outputs": [],
   "source": [
    "driver.get('https://id.elsevier.com/as/authorization.oauth2?platSite=SC%2Fscopus&ui_locales=en-US&scope=openid+profile+email+els_auth_info+els_analytics_info+urn%3Acom%3Aelsevier%3Aidp%3Apolicy%3Aproduct%3Aindv_identity&response_type=code&redirect_uri=https%3A%2F%2Fwww.scopus.com%2Fauthredirect.uri%3FtxGid%3D092a214d300ac62ef7553cb9e1f65f3f&state=userLogin%7CtxId%3DA7320C2C7F38D138ED975DBFAB4BFA25.i-037e98c7be7ddc14a%3A5&authType=SINGLE_SIGN_IN&prompt=login&client_id=SCOPUS')\n",
    "time.sleep(10)\n",
    "\n",
    "\n",
    "\n",
    "\n",
    "driver.find_element_by_css_selector('#bdd-elsSecondaryBtn').click()\n",
    "driver.find_element_by_id(\"bdd-email\").send_keys(username)\n",
    "driver.find_element_by_css_selector(\"#bdd-els-searchBtn\").click()\n",
    "driver.find_element_by_id(\"bdd-password\").send_keys(password)\n",
    "driver.find_element_by_css_selector(\"#bdd-elsPrimaryBtn\").click()\n",
    "\n",
    "\n",
    "# In[128]:\n",
    "print(\"logged in\")"
   ]
  },
  {
   "cell_type": "code",
   "execution_count": null,
   "metadata": {},
   "outputs": [],
   "source": [
    "html = driver.page_source\n",
    "soup = BeautifulSoup(html, \"html.parser\")"
   ]
  },
  {
   "cell_type": "code",
   "execution_count": null,
   "metadata": {},
   "outputs": [],
   "source": [
    "soup"
   ]
  },
  {
   "cell_type": "code",
   "execution_count": null,
   "metadata": {},
   "outputs": [],
   "source": [
    "def get_name(html):\n",
    "#     url = \"https://www.scopus.com/authid/detail.uri?authorId=57205693172&amp;eid=2-s2.0-85061119789\"\n",
    "#     print url\n",
    "#     driver.get(url) \n",
    "#     html = driver.page_source\n",
    "    nameU = BeautifulSoup(html, \"html.parser\")\n",
    "#     authInfo = nameU.find(\"div\",{\"class\":\"authInfoSection\"})\n",
    "    affil = nameU.find(\"div\",{\"class\":\"scopus-institution-name-link\"})\n",
    "    affiliation = affil.find(\"span\")\n",
    "#     country = affil.find(text=True,recursive=False)\n",
    "#     print affil.text\n",
    "    authN = nameU.find(\"h2\",{\"class\":\"author-general-details-title margin-size-4-t\"})\n",
    "    authName =''\n",
    "    if authN:\n",
    "        authName = authN.find(text=True,recursive =False)\n",
    "    affiliat = ''\n",
    "    if not authName:\n",
    "        authName = ''\n",
    "    if not affiliation:\n",
    "        affiliat = ''\n",
    "    else:\n",
    "        affiliat = affiliation.text \n",
    "    print(\"Name\",authName,affiliat)\n",
    "    return(authName,affiliat)"
   ]
  },
  {
   "cell_type": "code",
   "execution_count": null,
   "metadata": {},
   "outputs": [],
   "source": []
  },
  {
   "cell_type": "code",
   "execution_count": null,
   "metadata": {},
   "outputs": [],
   "source": [
    "# dict_ = {'AuthorName':'Aditya','Affiliation':'DU','Email':'abc@gmail.co'}\n",
    "# df  = pd.DataFrame([dict_],columns=dict_.keys())\n",
    "# # df_podcast = pd.concat([df_podcast, df], axis =0).reset_index()"
   ]
  },
  {
   "cell_type": "code",
   "execution_count": null,
   "metadata": {},
   "outputs": [],
   "source": [
    "with open('../Data/AuthorDetails_Gr2017.csv', mode='a') as dump:\n",
    "    dump_data = csv.writer(dump, delimiter=',', quotechar='\"', quoting=csv.QUOTE_MINIMAL)\n",
    "\n",
    "    dump_data.writerow(['AuthorName','Affiliation','Email'])\n"
   ]
  },
  {
   "cell_type": "code",
   "execution_count": null,
   "metadata": {},
   "outputs": [],
   "source": [
    "link2='https://www.scopus.com/inward/record.uri?eid=2-s2.0-85058064409&doi=10.1145%2f3269206.3271763&partnerID=40&md5=61113f16fc77df7e0b2948b4949f3f93'"
   ]
  },
  {
   "cell_type": "code",
   "execution_count": null,
   "metadata": {},
   "outputs": [],
   "source": [
    "link = \"https://www.scopus.com/inward/record.uri?eid=2-s2.0-85062882761&doi=10.1109%2fDSAA.2018.00064&partnerID=40&md5=46a981ec4f5b65b8d184d5bf9f24ca9f\"\n",
    "driver.get(link) \n",
    "html = driver.page_source\n",
    "soup = BeautifulSoup(html, \"html.parser\")"
   ]
  },
  {
   "cell_type": "code",
   "execution_count": null,
   "metadata": {},
   "outputs": [],
   "source": [
    "abstract ='#profileleftinside > micro-ui > scopus-document-details-page > div > els-stack > article > div:nth-child(4) > section > div > div.margin-size-4-t.margin-size-16-b > els-typography > span'\n",
    "author_keywords = '#profileleftinside > micro-ui > scopus-document-details-page > div > els-stack > article > div:nth-child(4) > section > div > div:nth-child(4)'\n",
    "eng_controlled = '#indexed-keywords > section > div > div > els-stack > els-stack:nth-child(1) > dl > dd'\n",
    "eng_uncontrolled = '#indexed-keywords > section > div > div > els-stack > els-stack:nth-child(2) > dl > dd'\n",
    "eng_main_heading = '#indexed-keywords > section > div > div > els-stack > els-stack:nth-child(3) > dl > dd'\n",
    "scival_tName ='#topics-of-prominence > section > div > div > div > dl > div.row.margin-size-12-b > dd > button > span'\n",
    "scival_ = '#topics-of-prominence > section > div > div > div > dl > div:nth-child(2) > dd > span'"
   ]
  },
  {
   "cell_type": "code",
   "execution_count": null,
   "metadata": {},
   "outputs": [],
   "source": [
    "abstract = soup.select(abstract)\n",
    "author_key =soup.select(author_keywords)\n",
    "eng_controlled_key\n",
    "eng_uncontrolled_key\n",
    "eng_heading_key"
   ]
  },
  {
   "cell_type": "code",
   "execution_count": null,
   "metadata": {},
   "outputs": [],
   "source": [
    "abstract"
   ]
  },
  {
   "cell_type": "code",
   "execution_count": null,
   "metadata": {},
   "outputs": [],
   "source": [
    "abstract_ ='#profileleftinside > micro-ui > scopus-document-details-page > div > els-stack > article > div:nth-child(4) > section > div > div.margin-size-4-t.margin-size-16-b > els-typography > span'\n",
    "author_keywords = '#profileleftinside > micro-ui > scopus-document-details-page > div > els-stack > article > div:nth-child(4) > section > div > div:nth-child(4)'\n",
    "eng_controlled = '#indexed-keywords > section > div > div > els-stack > els-stack:nth-child(1) > dl > dd'\n",
    "eng_uncontrolled = '#indexed-keywords > section > div > div > els-stack > els-stack:nth-child(2) > dl > dd'\n",
    "eng_main_heading = '#indexed-keywords > section > div > div > els-stack > els-stack:nth-child(3) > dl > dd'\n",
    "scival_tName ='#topics-of-prominence > section > div > div > div > dl > div.row.margin-size-12-b > dd > button > span'\n",
    "scival_ = '#topics-of-prominence > section > div > div > div > dl > div:nth-child(2) > dd > span'\n",
    "for index in range (0,1):#file_.shape[0]):\n",
    "    link = file_.iloc[index]['Link']\n",
    "    authors = str(file_.iloc[index]['Authors'])\n",
    "    title = str(file_.iloc[index]['Title'])\n",
    "    source_title = str(file_.iloc[index]['Source title'])\n",
    "    year = str(file_.iloc[index]['Year'])\n",
    "    aff = str(file_.iloc[index]['Affiliations'])\n",
    "    cited_count = str(file_.iloc[index]['Cited by'])\n",
    "#     print(type(year),type(aff),type(cited_count),type(link))\n",
    "    \n",
    "    print( index,link)\n",
    "    driver.get(link)\n",
    "#     wait = WebDriverWait(driver, 10)\n",
    "    time.sleep(6)\n",
    "    try:\n",
    "        html = driver.page_source\n",
    "        soup = BeautifulSoup(html, \"html.parser\")\n",
    "        dict_ = {'Abstract':'','Author_Keywords':'','Eng_controlled':'','Eng_Uncontrolled':'',\n",
    "                'Eng_main_heading':'','Scival_topic':'','Scival_Score':-1}\n",
    "        abstract = soup.select(abstract_)\n",
    "        author_key =soup.select(author_keywords)\n",
    "        eng_controlled_key = soup.select(eng_controlled)\n",
    "        eng_uncontrolled_key = soup.select(eng_uncontrolled)\n",
    "        eng_heading_key = soup.select(eng_main_heading)\n",
    "        scival_tname = soup.select(scival_tName)\n",
    "        scival_score = soup.select(scival_)\n",
    "        \n",
    "        if len(abstract)>0:\n",
    "            dict_['Abstract'] = abstract[0].text\n",
    "        if len(author_key)>0:\n",
    "            dict_['Author_Keywords'] = author_key[0].text\n",
    "        if len(eng_controlled_key)>0:\n",
    "            dict_['Eng_controlled'] = eng_controlled_key[0].text\n",
    "        if len(eng_heading_key)>0:\n",
    "            dict_['Eng_main_heading'] = eng_heading_key[0].text\n",
    "        if len(eng_uncontrolled_key)>0:\n",
    "            dict_['Eng_Uncontrolled'] = eng_uncontrolled_key[0].text\n",
    "        if len(scival_tname)>0:\n",
    "            dict_['Scival_topic'] = scival_tname[0].text\n",
    "        if len(scival_score)>0:\n",
    "            dict_['Scival_Score'] = scival_score[0].text\n",
    "        print('found')\n",
    "#         Below code is Working . Uncomment if you want to extract author emails and affilations\n",
    "#         f = soup.select('#profileleftinside > micro-ui > scopus-document-details-page > div > els-stack > article > div:nth-child(1) > section > div:nth-child(3) > div > ul > li')\n",
    "#         print(len(f))\n",
    "#         for ind, li in enumerate(f):\n",
    "#             all_list =li.find_all('els-button')\n",
    "#             dict_={'AuthorName':'','Affiliation':'','Email':''}\n",
    "#             for m in all_list:\n",
    "#                 if m['variant']=='link':\n",
    "#                     dict_['AuthorName'] = m.text\n",
    "#                 if 'href' in list(m.attrs.keys()):\n",
    "#                     dict_['Email'] = m['href'].split('mailto:')[-1]\n",
    "\n",
    "#                     driver.find_element_by_css_selector('#profileleftinside > micro-ui > scopus-document-details-page > div > els-stack > article > div:nth-child(1) > section > div:nth-child(3) > div > ul > li:nth-child('+str(ind+1)+') > els-button').click()\n",
    "#                     page_source = driver.page_source\n",
    "#                     soup2 = BeautifulSoup(page_source,'html.parser')\n",
    "#                     affilation =soup2.select('#author-preview-flyout > div > div > div > div > div.flyout__dialog--content-slot > div > els-focus-trap > section > els-stack > els-stack.stack.stack--l.stack--mode-normal.stack--vertical.stack--start.hydrated > els-stack.stack.stack--s.stack--mode-normal.stack--vertical.stack--start.hydrated > els-stack > span > els-button')\n",
    "#     #                 print(\"affiliation\",affilation,type(affilation))\n",
    "#                     driver.find_element_by_css_selector('#author-preview-flyout > div > div > div > div > div.flyout__dialog--content-slot > div > els-focus-trap > section > header > button > span.button__icon > els-icon > svg').click()\n",
    "#                     if len(affilation)==0:\n",
    "#                         dict_['Affiliation']=''\n",
    "#                     else:\n",
    "#                         dict_['Affiliation']=affilation[0].text\n",
    "#                 dfP  = pd.DataFrame([dict_], columns=dict_.keys())\n",
    "#                 with open('../Data/AuthorDetails_Gr2021_physics.csv',mode='a') as dump:\n",
    "#                     csv_data = re.sub(\",\",\"_\",dict_['AuthorName'])+\",\"+re.sub(\",\",\" \",dict_['Affiliation'])+\",\"+re.sub(\",\",\" \",dict_['Email'])+\",\"\n",
    "#                     print(csv_data)\n",
    "#                     dump_data = csv.writer(dump, delimiter=',', quotechar='\"', quoting=csv.QUOTE_MINIMAL)\n",
    "#                     dump_data.writerow(csv_data.split(\",\"))\n",
    "        with open('../Data/AuthorDetails_Gr2021_sample.csv',mode='a') as dump:\n",
    "            csv_data = re.sub(\",\",\"_\",authors)+\",\"+re.sub(\",\",\" \",title)+\",\"+re.sub(\",\",\" \",source_title)+\",\"+re.sub(\",\",\" \",year)+\",\"+re.sub(\",\",\" \",link)+\",\"+re.sub(\",\",\" \",cited_count)+\",\"+re.sub(\",\",\"_\",dict_['Abstract'])+\",\"+re.sub(\",\",\" \",dict_['Author_Keywords'])+\",\"+re.sub(\",\",\" \",dict_['Eng_controlled'])+\",\"+re.sub(\",\",\" \",dict_['Eng_Uncontrolled'])+\",\"+re.sub(\",\",\" \",dict_['Eng_main_heading'])+\",\"+re.sub(\",\",\" \",dict_['Scival_topic'])+\",\"+re.sub(\",\",\" \",str(dict_['Scival_Score']))\n",
    "            print(csv_data)\n",
    "            dump_data = csv.writer(dump, delimiter=',', quotechar='\"', quoting=csv.QUOTE_MINIMAL)\n",
    "            dump_data.writerow(csv_data.split(\",\"))\n",
    "    except:\n",
    "        print(index,\"error\")\n"
   ]
  },
  {
   "cell_type": "code",
   "execution_count": null,
   "metadata": {},
   "outputs": [],
   "source": [
    "f = soup.select('#profileleftinside > micro-ui > scopus-document-details-page > div > els-stack > article > div:nth-child(1) > section > div:nth-child(3) > div > ul > li')"
   ]
  },
  {
   "cell_type": "code",
   "execution_count": null,
   "metadata": {},
   "outputs": [],
   "source": [
    "f"
   ]
  },
  {
   "cell_type": "code",
   "execution_count": null,
   "metadata": {},
   "outputs": [],
   "source": [
    "y =f[0].find_all('els-button')\n",
    "dict_={'AuthorName':'','Affiliation':'','Email':''}\n",
    "for m in y:\n",
    "    if m['variant']=='link':\n",
    "        dict_['AuthorName'] = m.text\n",
    "    if 'href' in list(m.attrs.keys()):\n",
    "        dict_['Email'] = m['href'].split('mailto:')[-1]\n",
    "print(dict_) "
   ]
  },
  {
   "cell_type": "code",
   "execution_count": null,
   "metadata": {},
   "outputs": [],
   "source": [
    " soup.select('#profileleftinside > micro-ui > scopus-document-details-page > div > els-stack > article > div:nth-child(1)')"
   ]
  },
  {
   "cell_type": "code",
   "execution_count": null,
   "metadata": {},
   "outputs": [],
   "source": [
    "driver.back()"
   ]
  },
  {
   "cell_type": "code",
   "execution_count": null,
   "metadata": {},
   "outputs": [],
   "source": [
    "driver.find_element_by_css_selector('#profileleftinside > micro-ui > scopus-document-details-page > div > els-stack > article > div:nth-child(1) > section > div:nth-child(3) > div > ul > li:nth-child(3) > els-button:nth-child(1)').click()"
   ]
  },
  {
   "cell_type": "code",
   "execution_count": null,
   "metadata": {},
   "outputs": [],
   "source": [
    "driver.find_element_by_css_selector('#author-preview-flyout > div > div > div > div > div.flyout__dialog--content-slot > div > els-focus-trap > section > header > button > span.button__icon > els-icon > svg').click()"
   ]
  },
  {
   "cell_type": "code",
   "execution_count": null,
   "metadata": {},
   "outputs": [],
   "source": [
    "page_source = driver.page_source\n",
    "soup2 = BeautifulSoup(page_source,'html.parser')\n",
    "affilation =soup2.select('#author-preview-flyout > div > div > div > div > div.flyout__dialog--content-slot > div > els-focus-trap > section > els-stack > els-stack.stack.stack--l.stack--mode-normal.stack--vertical.stack--start.hydrated > els-stack.stack.stack--s.stack--mode-normal.stack--vertical.stack--start.hydrated > els-stack > span > els-button')[0]\n",
    "affilation.text"
   ]
  },
  {
   "cell_type": "code",
   "execution_count": null,
   "metadata": {},
   "outputs": [],
   "source": [
    "soup2.select('#author-preview-flyout > div > div > div > div > div.flyout__dialog--content-slot > div > els-focus-trap > section > els-stack > els-stack.stack.stack--l.stack--mode-normal.stack--vertical.stack--start.hydrated > els-stack.stack.stack--s.stack--mode-normal.stack--vertical.stack--start.hydrated > els-stack > span > els-button')"
   ]
  },
  {
   "cell_type": "code",
   "execution_count": null,
   "metadata": {},
   "outputs": [],
   "source": [
    "#author-preview-flyout > div > div > div > div > div.flyout__dialog--content-slot > div > els-focus-trap > section > els-stack > els-stack.stack.stack--l.stack--mode-normal.stack--vertical.stack--start.hydrated > els-stack.stack.stack--s.stack--mode-normal.stack--vertical.stack--start.hydrated > els-stack > els-button"
   ]
  },
  {
   "cell_type": "code",
   "execution_count": null,
   "metadata": {},
   "outputs": [],
   "source": [
    "sectioNe= soup.find('div',{ \"data-testid\" : \"author-list\"}) \n",
    "uls = sectioNe.find_all('ul')"
   ]
  },
  {
   "cell_type": "code",
   "execution_count": null,
   "metadata": {},
   "outputs": [],
   "source": [
    "driver.find_element_by_css_selector('#profileleftinside > micro-ui > scopus-document-details-page > div > els-stack > article > div:nth-child(1) > section > div:nth-child(3) > div > ul > li:nth-child(1) > els-button:nth-child(1)').click()"
   ]
  },
  {
   "cell_type": "code",
   "execution_count": null,
   "metadata": {},
   "outputs": [],
   "source": [
    "for index in range (0,file_.shape[0]):\n",
    "    link = file_.iloc[index]['Link']\n",
    "    print( index,link)\n",
    "    driver.get(link)\n",
    "#     wait = WebDriverWait(driver, 10)\n",
    "    time.sleep(2)\n",
    "    html = driver.page_source\n",
    "    soup = BeautifulSoup(html, \"html.parser\")\n",
    "    f = soup.select('#profileleftinside > micro-ui > scopus-document-details-page > div > els-stack > article > div:nth-child(1) > section > div:nth-child(3) > div > ul > li')\n",
    "    print(len(f))\n",
    "    for ind, li in enumerate(f):\n",
    "        all_list =li.find_all('els-button')\n",
    "        dict_={'AuthorName':'','Affiliation':'','Email':''}\n",
    "        for m in all_list:\n",
    "            if m['variant']=='link':\n",
    "                dict_['AuthorName'] = m.text\n",
    "            if 'href' in list(m.attrs.keys()):\n",
    "                dict_['Email'] = m['href'].split('mailto:')[-1]\n",
    "                  \n",
    "                driver.find_element_by_css_selector('#profileleftinside > micro-ui > scopus-document-details-page > div > els-stack > article > div:nth-child(1) > section > div:nth-child(3) > div > ul > li:nth-child('+str(ind+1)+') > els-button').click()\n",
    "                page_source = driver.page_source\n",
    "                soup2 = BeautifulSoup(page_source,'html.parser')\n",
    "                affilation =soup2.select('#author-preview-flyout > div > div > div > div > div.flyout__dialog--content-slot > div > els-focus-trap > section > els-stack > els-stack.stack.stack--l.stack--mode-normal.stack--vertical.stack--start.hydrated > els-stack.stack.stack--s.stack--mode-normal.stack--vertical.stack--start.hydrated > els-stack > span > els-button')\n",
    "#                 print(\"affiliation\",affilation,type(affilation))\n",
    "                driver.find_element_by_css_selector('#author-preview-flyout > div > div > div > div > div.flyout__dialog--content-slot > div > els-focus-trap > section > header > button > span.button__icon > els-icon > svg').click()\n",
    "                if len(affilation)==0:\n",
    "                    dict_['Affiliation']=''\n",
    "                else:\n",
    "                    dict_['Affiliation']=affilation[0].text\n",
    "        dfP  = pd.DataFrame([dict_], columns=dict_.keys())\n",
    "        with open('../Data/AuthorDetails_Gr2021_first2k.csv',mode='a') as dump:\n",
    "            csv_data = re.sub(\",\",\"_\",dict_['AuthorName'])+\",\"+re.sub(\",\",\" \",dict_['Affiliation'])+\",\"+re.sub(\",\",\" \",dict_['Email'])+\",\"\n",
    "            print(csv_data)\n",
    "            dump_data = csv.writer(dump, delimiter=',', quotechar='\"', quoting=csv.QUOTE_MINIMAL)\n",
    "            dump_data.writerow(csv_data.split(\",\"))"
   ]
  },
  {
   "cell_type": "code",
   "execution_count": null,
   "metadata": {},
   "outputs": [],
   "source": [
    "driver.find_element_by_css_selector('#profileleftinside > micro-ui > scopus-document-details-page > div > els-stack > article > div:nth-child(1) > section > div:nth-child(3) > div > ul > li:nth-child(3) > els-button').click()"
   ]
  },
  {
   "cell_type": "code",
   "execution_count": null,
   "metadata": {},
   "outputs": [],
   "source": [
    "print( file_.shape)\n",
    "for index, row in tqdm(file_sample.iterrows()):\n",
    "    link = link1#row['Link']\n",
    "    print( index,link)\n",
    "    driver.get(link)\n",
    "    wait = WebDriverWait(driver, 10)\n",
    "#     email = wait.until(EC.visibility_of_element_located((By.CSS_SELECTOR, '#profileleftinside > micro-ui > scopus-document-details-page > div > els-stack > article > div:nth-child(1) > section > div:nth-child(3) > div > ul > li:nth-child(1) > els-button:nth-child(2)'))).get_attribute(\"href\")\n",
    "    time.sleep(10)\n",
    "#     print(\"email\",email)\n",
    "    html = driver.page_source\n",
    "    soup = BeautifulSoup(html, \"html.parser\")\n",
    "    new_html =driver.find_element_by_css_selector('#profileleftinside > micro-ui > scopus-document-details-page > div > els-stack > article > div:nth-child(1) > section > div:nth-child(3) > div > ul > li:nth-child(1) > els-button:nth-child(1)').click()\n",
    "    soup2 = BeautifulSoup(new_html, \"html.parser\")\n",
    "    soup.find('els-button variant').get\n",
    "    \n",
    "#     divNeeded  = soup.find('div', { \"class\" : \"profileleftinside\"}) \n",
    "#     print(\"profile_left_inside\",divNeeded)\n",
    "#     uls = divNeeded.find('ul',{\"id\":\"author-list\"})\n",
    "\n",
    "    sectioNe= soup.find('div',{ \"data-testid\" : \"author-list\"})\n",
    "    uls = sectioNe.find_all('ul')\n",
    "    print(uls)\n",
    "    for ul in uls:\n",
    "        for li in ul.findAll('li'):\n",
    "            dict_={'AuthorName':'','Affiliation':'','Email':''}\n",
    "            for link in li.find_all('els-button', href=True):\n",
    "#                 print link\n",
    "                addr  = link['href']\n",
    "                if 'mailto' in addr:\n",
    "                    email = addr.split('mailto:')[-1]\n",
    "                    dict_['Email'] = email\n",
    "                    print ('Email',email)\n",
    "                elif 'scopus' in addr:\n",
    "                    dict_['AuthorName'],dict_['Affiliation'] = get_name(addr)\n",
    "            dfP  = pd.DataFrame([dict_], columns=dict_.keys())\n",
    "            with open('../Data/AuthorDetails_Gr2021_first2k.csv',mode='a') as dump:\n",
    "                csv_data = re.sub(\",\",\"_\",dict_['AuthorName'])+\",\"+re.sub(\",\",\" \",dict_['Affiliation'])+\",\"+re.sub(\",\",\" \",dict_['Email'])+\",\"\n",
    "                print(csv_data)\n",
    "                dump_data = csv.writer(dump, delimiter=',', quotechar='\"', quoting=csv.QUOTE_MINIMAL)\n",
    "                dump_data.writerow(csv_data.encode(\"utf-8\").split(\",\"))\n",
    "\n",
    "#             df = pd.concat([df, dfP]).reset_index(drop=True)\n",
    "#     except:\n",
    "#         print(\"nothing found\")"
   ]
  },
  {
   "cell_type": "code",
   "execution_count": null,
   "metadata": {},
   "outputs": [],
   "source": [
    "# df.to_csv('../Data/AuthorDetails_Gr2017.csv',encoding = 'utf-8')"
   ]
  },
  {
   "cell_type": "markdown",
   "metadata": {},
   "source": [
    "# Cleaning"
   ]
  },
  {
   "cell_type": "code",
   "execution_count": null,
   "metadata": {},
   "outputs": [],
   "source": [
    "file_ = pd.read_csv('../Data/AuthorDetails_Gr2021.csv')\n",
    "print( file_.shape)"
   ]
  },
  {
   "cell_type": "code",
   "execution_count": null,
   "metadata": {},
   "outputs": [],
   "source": [
    "file_.drop_duplicates(subset =\"AuthorName\", \n",
    "                     keep = False, inplace = True)\n",
    "print file_.shape"
   ]
  },
  {
   "cell_type": "code",
   "execution_count": null,
   "metadata": {},
   "outputs": [],
   "source": [
    "for index, row in file_.iterrows():\n",
    "    au = row['AuthorName']\n",
    "    au = au.replace('\\n','')\n",
    "    auL =au.split('_')\n",
    "    \n",
    "    newau =auL[-1]+' '+auL[0]\n",
    "    newau = newau.strip()\n",
    "    file_.set_value(index,'AuthorName',newau)\n",
    "print file_.shape    "
   ]
  },
  {
   "cell_type": "code",
   "execution_count": null,
   "metadata": {},
   "outputs": [],
   "source": [
    "file_.reset_index(inplace=True,drop=True)\n",
    "file_"
   ]
  },
  {
   "cell_type": "code",
   "execution_count": null,
   "metadata": {},
   "outputs": [],
   "source": [
    "file_.to_csv('../Data/AuthorDetails_Cleaned_Gr2017.csv')"
   ]
  },
  {
   "cell_type": "markdown",
   "metadata": {},
   "source": [
    "# Getting Email and Data -ignore"
   ]
  },
  {
   "cell_type": "code",
   "execution_count": null,
   "metadata": {},
   "outputs": [],
   "source": [
    "filename = '../Data/PapersDownloaded/SliceMicrosoft.txt'\n",
    "# title_block = []\n",
    "# text_list = []\n",
    "def initalize():\n",
    "    global text_list\n",
    "    global title_block\n",
    "    \n",
    "    text_list =[]\n",
    "    title_block = []\n",
    "    \n",
    "def extract_text(resumePath):\n",
    "    if resumePath.endswith('pdf'):\n",
    "        text_file = resumePath.split('.')[0] + '.txt'\n",
    "\n",
    "        if not os.path.isfile(text_file):\n",
    "            os.system('pdftotext -table -enc UTF-8 ' + resumePath)\n",
    "        parsed = parser.from_file(text_file)\n",
    "        string_ = parsed[\"content\"]\n",
    "\n",
    "        string_ = re.sub(r'\\n\\s*\\n', '\\n', string_)\n",
    "        text_list = string_.split(\"\\n\")\n",
    "#         text_list_select =[False] * len(text_list)\n",
    "    else:\n",
    "        parsed = parser.from_file(resumePath)\n",
    "        string_ = parsed[\"content\"]\n",
    "        string_ = re.sub(r'\\n\\s*\\n', '\\n', string_)\n",
    "        text_list = string_.split(\"\\n\")\n",
    "#         text_list_select = [False] * len(text_list)\n",
    "    return text_list\n",
    "\n",
    "\n",
    "def keyword_match(keys_list,keyword_set):\n",
    "    if any(s.title() in keys_list or s.upper() in keys_list or s.capitalize() in keys_list for s in keyword_set):\n",
    "        return True\n",
    "\n",
    "    return False\n",
    "\n",
    "def get_title_block(text_list):\n",
    "    block_keywords = ['abstract','keyword','css concepts','introduction']\n",
    "    for i, text in enumerate(text_list):\n",
    "        if not keyword_match(text,block_keywords):\n",
    "                title_block.append(text)\n",
    "        else:\n",
    "            break\n",
    "    return title_block"
   ]
  },
  {
   "cell_type": "code",
   "execution_count": null,
   "metadata": {},
   "outputs": [],
   "source": [
    "def download_pdf(url,title)\n",
    "# url=\"https://Hostname/saveReport/file_name.pdf\"    #Note: It's https\n",
    "\n",
    "r = requests.get(url)\n",
    "r.raw.decode_content = True\n",
    "with open(\"file_name.pdf\", 'wb') as f:\n",
    "        shutil.copyfileobj(r.raw, f)      "
   ]
  },
  {
   "cell_type": "code",
   "execution_count": null,
   "metadata": {},
   "outputs": [],
   "source": [
    "url ='https://arxiv.org/pdf/1801.00253.pdf'\n",
    "r = requests.get(url)\n",
    "r.raw.decode_content = True\n",
    "with open(\"../file_name.pdf\", 'wb') as f:\n",
    "        shutil.copyfileobj(r.raw, f)     \n",
    "# title = 'Global income inequality and savings: A data science perspective'\n",
    "# title.split(' ')"
   ]
  },
  {
   "cell_type": "code",
   "execution_count": null,
   "metadata": {},
   "outputs": [],
   "source": [
    "print r.content"
   ]
  },
  {
   "cell_type": "code",
   "execution_count": null,
   "metadata": {},
   "outputs": [],
   "source": [
    "def get_email(titleBlock):\n",
    "    emailList = []\n",
    "    for i, textD in enumerate(titleBlock):\n",
    "        # multiple Text\n",
    "        tList = re.split('\\s\\s+',textD)\n",
    "        for text in tList:\n",
    "            if not text.isspace():\n",
    "                email_addr = re.search(r'[a-zA-Z0-9][\\w\\.-]+@[\\w\\.-]+', text)\n",
    "                if email_addr:\n",
    "                    emailList.append(email_addr.group(0))\n",
    "    return emailList"
   ]
  },
  {
   "cell_type": "code",
   "execution_count": null,
   "metadata": {},
   "outputs": [],
   "source": [
    "dir_name ='/Users/addy93/Desktop/ML_India/Data/PapersDownloaded/'\n",
    "txtList = [y for x in os.walk(dir_name) for y in glob(os.path.join(x[0], '*.txt'))]\n",
    "pdfList = [y for x in os.walk(dir_name) for y in glob(os.path.join(x[0], '*.pdf'))]"
   ]
  },
  {
   "cell_type": "code",
   "execution_count": null,
   "metadata": {
    "scrolled": true
   },
   "outputs": [],
   "source": [
    "initalize()\n",
    "for index,file_ in enumerate(pdfList):\n",
    "    textList = []\n",
    "    titleBlock = []\n",
    "    emaiList = []\n",
    "    print file_\n",
    "    textList = extract_text(file_)\n",
    "    titleBlock = get_title_block(textList)\n",
    "    emaiList = get_email(titleBlock)\n",
    "    print titleBlock\n",
    "    print \"Email\",emaiList\n",
    "    \n",
    "    "
   ]
  },
  {
   "cell_type": "code",
   "execution_count": null,
   "metadata": {},
   "outputs": [],
   "source": [
    "\n"
   ]
  },
  {
   "cell_type": "code",
   "execution_count": null,
   "metadata": {},
   "outputs": [],
   "source": []
  }
 ],
 "metadata": {
  "kernelspec": {
   "display_name": "Python 3 (ipykernel)",
   "language": "python",
   "name": "python3"
  },
  "language_info": {
   "codemirror_mode": {
    "name": "ipython",
    "version": 3
   },
   "file_extension": ".py",
   "mimetype": "text/x-python",
   "name": "python",
   "nbconvert_exporter": "python",
   "pygments_lexer": "ipython3",
   "version": "3.10.2"
  }
 },
 "nbformat": 4,
 "nbformat_minor": 2
}
