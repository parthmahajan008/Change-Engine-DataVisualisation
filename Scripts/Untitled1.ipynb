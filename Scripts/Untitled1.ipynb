{
 "cells": [
  {
   "cell_type": "code",
   "execution_count": 14,
   "id": "840cde77",
   "metadata": {},
   "outputs": [],
   "source": [
    "import pandas as pd"
   ]
  },
  {
   "cell_type": "code",
   "execution_count": 2,
   "id": "4ce2f17c",
   "metadata": {},
   "outputs": [],
   "source": [
    "start_year = 2000\n",
    "end_year = 2021\n",
    "year_gaps = [2,3,5]\n",
    "ngrams = {'uni':(1,1),'bigram':(2,2),'trigram':(3,3)}"
   ]
  },
  {
   "cell_type": "code",
   "execution_count": 26,
   "id": "b6a67fee",
   "metadata": {},
   "outputs": [
    {
     "name": "stdout",
     "output_type": "stream",
     "text": [
      "year range ['2000-2005', '2005-2010', '2010-2015', '2015-2021']\n"
     ]
    }
   ],
   "source": [
    "year_gap =5\n",
    "names = []\n",
    "year = start_year\n",
    "while( year<end_year):\n",
    "    first = year\n",
    "    last = year+year_gap\n",
    "    if last==2020 and year_gap==5:\n",
    "        last=2021\n",
    "    str_ = str(first)+'-'+str(last)\n",
    "    names.append(str_)\n",
    "    year = last\n",
    "print(\"year range\",names)"
   ]
  },
  {
   "cell_type": "code",
   "execution_count": 12,
   "id": "a909f7f4",
   "metadata": {},
   "outputs": [],
   "source": [
    "from wordcloud import WordCloud\n",
    "import matplotlib.pyplot as plt"
   ]
  },
  {
   "cell_type": "code",
   "execution_count": 10,
   "id": "5cf1e534",
   "metadata": {},
   "outputs": [],
   "source": [
    "# !pip install wordcloud"
   ]
  },
  {
   "cell_type": "code",
   "execution_count": null,
   "id": "79bcdf82",
   "metadata": {},
   "outputs": [],
   "source": [
    "wordcloud = WordCloud()\n",
    "wordcloud.generate_from_frequencies(frequencies=d)\n",
    "plt.figure()\n",
    "plt.imshow(wordcloud, interpolation=\"bilinear\")\n",
    "plt.axis(\"off\")\n",
    "plt.show()"
   ]
  },
  {
   "cell_type": "code",
   "execution_count": null,
   "id": "e44f61b6",
   "metadata": {},
   "outputs": [],
   "source": [
    "final_df = pd.DataFrame()\n",
    "wordcloud = WordCloud()\n",
    "fig = plt.figure()\n",
    "fig,axes=plt.subplots(figsize=(200,200))\n",
    "count = 1\n",
    "for txt,ngramR in ngrams.items():\n",
    "    for n in names:\n",
    "        title = \"CountVec_\" + txt +\"_\"+n\n",
    "        xlsx = pd.ExcelFile(\"../Data/Paper_Details/Results/\"+txt+\"_CountVec_gap_\"+str(year_gap)+\".xlsx\")\n",
    "        sheet = xlsx.parse(sheet_name=n)\n",
    "        if 'Unnamed: 0' in sheet.columns:\n",
    "            del sheet['Unnamed: 0']\n",
    "        dict_ = dict(sheet.values)\n",
    "        wordcloud.generate_from_frequencies(frequencies=dict_)\n",
    "        ax = fig.add_subplot(4,3,count)\n",
    "        count=count+1\n",
    "        ax = plt.imshow(wordcloud, interpolation=\"bilinear\")\n",
    "        ax = plt.axis('off')\n",
    "        ax = plt.title(title)\n",
    "        \n",
    "\n",
    "plt.show()\n",
    "# fig.savefig('../Data/Paper_Details/plots/ax.png', dpi=300)\n",
    "#         plt.imshow(wordcloud, interpolation=\"bilinear\")\n",
    "#         plt.show()\n",
    "#         fig.savefig('../Data/Paper_Details/plots/'+title+'.png')"
   ]
  },
  {
   "cell_type": "code",
   "execution_count": 50,
   "id": "ea76c96c",
   "metadata": {},
   "outputs": [
    {
     "name": "stdout",
     "output_type": "stream",
     "text": [
      "Python 3.8.5\r\n"
     ]
    }
   ],
   "source": [
    "\n"
   ]
  },
  {
   "cell_type": "code",
   "execution_count": null,
   "id": "b5ee568d",
   "metadata": {},
   "outputs": [],
   "source": []
  }
 ],
 "metadata": {
  "kernelspec": {
   "display_name": "Python 3 (ipykernel)",
   "language": "python",
   "name": "python3"
  },
  "language_info": {
   "codemirror_mode": {
    "name": "ipython",
    "version": 3
   },
   "file_extension": ".py",
   "mimetype": "text/x-python",
   "name": "python",
   "nbconvert_exporter": "python",
   "pygments_lexer": "ipython3",
   "version": "3.8.5"
  }
 },
 "nbformat": 4,
 "nbformat_minor": 5
}
